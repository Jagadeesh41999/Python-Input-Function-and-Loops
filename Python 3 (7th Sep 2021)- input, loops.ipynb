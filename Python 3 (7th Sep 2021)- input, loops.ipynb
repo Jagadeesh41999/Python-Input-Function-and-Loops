{
 "cells": [
  {
   "cell_type": "code",
   "execution_count": 3,
   "id": "c13be330",
   "metadata": {},
   "outputs": [],
   "source": [
    "import math as m"
   ]
  },
  {
   "cell_type": "code",
   "execution_count": 5,
   "id": "9972c5b8",
   "metadata": {},
   "outputs": [
    {
     "data": {
      "text/plain": [
       "8.0"
      ]
     },
     "execution_count": 5,
     "metadata": {},
     "output_type": "execute_result"
    }
   ],
   "source": [
    "x=m.sqrt(64)\n",
    "x"
   ]
  },
  {
   "cell_type": "code",
   "execution_count": 7,
   "id": "7ec70231",
   "metadata": {},
   "outputs": [
    {
     "data": {
      "text/plain": [
       "7.68"
      ]
     },
     "execution_count": 7,
     "metadata": {},
     "output_type": "execute_result"
    }
   ],
   "source": [
    "x=round(m.sqrt(59),2)\n",
    "x"
   ]
  },
  {
   "cell_type": "code",
   "execution_count": 9,
   "id": "b39ec659",
   "metadata": {},
   "outputs": [
    {
     "data": {
      "text/plain": [
       "1024"
      ]
     },
     "execution_count": 9,
     "metadata": {},
     "output_type": "execute_result"
    }
   ],
   "source": [
    "pow (4,5)"
   ]
  },
  {
   "cell_type": "markdown",
   "id": "fe841880",
   "metadata": {},
   "source": []
  },
  {
   "cell_type": "code",
   "execution_count": 10,
   "id": "5353d869",
   "metadata": {},
   "outputs": [
    {
     "data": {
      "text/plain": [
       "49.0"
      ]
     },
     "execution_count": 10,
     "metadata": {},
     "output_type": "execute_result"
    }
   ],
   "source": [
    "x=pow(m.sqrt(49),2)\n",
    "x"
   ]
  },
  {
   "cell_type": "code",
   "execution_count": 14,
   "id": "9165745d",
   "metadata": {},
   "outputs": [
    {
     "name": "stdout",
     "output_type": "stream",
     "text": [
      "Enter X Value :78\n",
      "Enter Y Value :89\n"
     ]
    },
    {
     "data": {
      "text/plain": [
       "167"
      ]
     },
     "execution_count": 14,
     "metadata": {},
     "output_type": "execute_result"
    }
   ],
   "source": [
    "x=int(input ('Enter X Value :'))\n",
    "y=int(input('Enter Y Value :'))\n",
    "z=x+y\n",
    "z"
   ]
  },
  {
   "cell_type": "code",
   "execution_count": 18,
   "id": "5485709c",
   "metadata": {},
   "outputs": [
    {
     "name": "stdout",
     "output_type": "stream",
     "text": [
      "Enter an expression:69-78*824\n",
      "-64203\n"
     ]
    }
   ],
   "source": [
    "result=eval(input(\"Enter an expression:\"))\n",
    "print(result)"
   ]
  },
  {
   "cell_type": "code",
   "execution_count": 19,
   "id": "e1899f25",
   "metadata": {},
   "outputs": [
    {
     "name": "stdout",
     "output_type": "stream",
     "text": [
      "Enter a Character: hi \n",
      "hi \n"
     ]
    }
   ],
   "source": [
    "ch=input('Enter a Character: ')\n",
    "print(ch)"
   ]
  },
  {
   "cell_type": "code",
   "execution_count": 20,
   "id": "1db8c1a4",
   "metadata": {},
   "outputs": [
    {
     "name": "stdout",
     "output_type": "stream",
     "text": [
      "Enter a Character: hi\n",
      "hi\n"
     ]
    },
    {
     "data": {
      "text/plain": [
       "'h'"
      ]
     },
     "execution_count": 20,
     "metadata": {},
     "output_type": "execute_result"
    }
   ],
   "source": [
    "ch=input('Enter a Character: ')\n",
    "print(ch)\n",
    "ch[0]"
   ]
  },
  {
   "cell_type": "code",
   "execution_count": 35,
   "id": "c0e44e75",
   "metadata": {},
   "outputs": [
    {
     "name": "stdout",
     "output_type": "stream",
     "text": [
      "Enter a Number:9\n",
      "Number is Odd\n"
     ]
    }
   ],
   "source": [
    "x=int(input(\"Enter a Number:\"))\n",
    "\n",
    "r=x%2\n",
    "if r==0:\n",
    "    print(\"Number is Even\")\n",
    "if x>=10:\n",
    "    print(\"Not executable\")\n",
    "else:\n",
    "    print(\"Number is Odd\")"
   ]
  },
  {
   "cell_type": "code",
   "execution_count": null,
   "id": "332f026e",
   "metadata": {},
   "outputs": [],
   "source": []
  },
  {
   "cell_type": "code",
   "execution_count": 39,
   "id": "54181966",
   "metadata": {},
   "outputs": [
    {
     "name": "stdout",
     "output_type": "stream",
     "text": [
      "Python\n",
      "Python\n",
      "Python\n",
      "Python\n",
      "Python\n",
      "Python\n",
      "Python\n",
      "Python\n",
      "Python\n",
      "Python\n"
     ]
    }
   ],
   "source": [
    "i=1\n",
    "while i<=10:\n",
    "    print('Python')\n",
    "    i=i+1"
   ]
  },
  {
   "cell_type": "code",
   "execution_count": 41,
   "id": "e77fd20f",
   "metadata": {},
   "outputs": [
    {
     "name": "stdout",
     "output_type": "stream",
     "text": [
      "10\n",
      "9\n",
      "8\n",
      "7\n",
      "6\n",
      "5\n",
      "4\n",
      "3\n",
      "2\n",
      "1\n"
     ]
    }
   ],
   "source": [
    "i=10\n",
    "while i>=1:\n",
    "    print(i)\n",
    "    i=i-1"
   ]
  },
  {
   "cell_type": "code",
   "execution_count": 47,
   "id": "6347482c",
   "metadata": {},
   "outputs": [
    {
     "name": "stdout",
     "output_type": "stream",
     "text": [
      "Tanmay Jain Tanmay Jain Tanmay Jain "
     ]
    }
   ],
   "source": [
    "i=1\n",
    "while i<=3:\n",
    "    print(\"Tanmay Jain \",end=\"\")\n",
    "    i=i+1"
   ]
  },
  {
   "cell_type": "code",
   "execution_count": 51,
   "id": "74d2bc23",
   "metadata": {},
   "outputs": [
    {
     "name": "stdout",
     "output_type": "stream",
     "text": [
      "Tanmay Jain Tanmay Jain Tanmay Jain "
     ]
    }
   ],
   "source": [
    "i=1\n",
    "j=1\n",
    "while i<=3:\n",
    "    while j<=3:\n",
    "        print(\"Tanmay \",end=\"\")\n",
    "        print(\"Jain \",end=\"\")\n",
    "        i=i+1\n",
    "        j=j+1\n",
    "\n",
    "    "
   ]
  },
  {
   "cell_type": "markdown",
   "id": "74ebf6e9",
   "metadata": {},
   "source": [
    "**For Loop**\n"
   ]
  },
  {
   "cell_type": "code",
   "execution_count": 53,
   "id": "e111eae7",
   "metadata": {},
   "outputs": [
    {
     "name": "stdout",
     "output_type": "stream",
     "text": [
      "jagadeesh\n",
      "10\n",
      "2\n",
      "45\n",
      "76\n"
     ]
    }
   ],
   "source": [
    "x=['jagadeesh',10,2,45,76]\n",
    "for i in x:\n",
    "    print(i)"
   ]
  },
  {
   "cell_type": "code",
   "execution_count": 57,
   "id": "94409a64",
   "metadata": {},
   "outputs": [
    {
     "name": "stdout",
     "output_type": "stream",
     "text": [
      "0 2 4 6 8 10 12 14 16 18 "
     ]
    }
   ],
   "source": [
    "for i in range(20):\n",
    "    if i%2==0:\n",
    "        print(i ,end=\" \")"
   ]
  },
  {
   "cell_type": "code",
   "execution_count": null,
   "id": "2c53eb7e",
   "metadata": {},
   "outputs": [],
   "source": []
  },
  {
   "cell_type": "code",
   "execution_count": 3,
   "id": "b6824757",
   "metadata": {},
   "outputs": [
    {
     "name": "stdout",
     "output_type": "stream",
     "text": [
      "10 10.5\n",
      "11 11.5\n",
      "12 12.5\n",
      "13 13.5\n",
      "14 14.5\n",
      "15 15.5\n"
     ]
    }
   ],
   "source": [
    "for i in range(10,16):\n",
    "    print(i,i+0.5)\n"
   ]
  },
  {
   "cell_type": "code",
   "execution_count": null,
   "id": "9682fd94",
   "metadata": {},
   "outputs": [],
   "source": []
  }
 ],
 "metadata": {
  "kernelspec": {
   "display_name": "Python 3",
   "language": "python",
   "name": "python3"
  },
  "language_info": {
   "codemirror_mode": {
    "name": "ipython",
    "version": 3
   },
   "file_extension": ".py",
   "mimetype": "text/x-python",
   "name": "python",
   "nbconvert_exporter": "python",
   "pygments_lexer": "ipython3",
   "version": "3.8.8"
  }
 },
 "nbformat": 4,
 "nbformat_minor": 5
}
